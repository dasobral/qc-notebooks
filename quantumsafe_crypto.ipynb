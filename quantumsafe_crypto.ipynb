{
 "cells": [
  {
   "cell_type": "markdown",
   "metadata": {},
   "source": [
    "# Introduction to Quantum Safe Cryptography"
   ]
  },
  {
   "cell_type": "markdown",
   "metadata": {},
   "source": [
    "This notebook serves as a compilation of the hands-on examples provided in the 'Introduction to Quantum Safe Cryptography' provided by IBM.\n",
    "\n",
    "Requirements:\n",
    "\n",
    "-   'cryptography' library "
   ]
  },
  {
   "cell_type": "markdown",
   "metadata": {},
   "source": [
    "## CHFs: Cryptographic HASH FUNCTIONS"
   ]
  },
  {
   "cell_type": "markdown",
   "metadata": {},
   "source": [
    "### The SHA-256 algorithm\n",
    "\n",
    "Let us demonstrate cryptographic hashing my making use of the well-known SHA-256 algorithm, widely used in modern technologies such as the Blockchain (cryptocurrencies), digital signatures and certificates.\n",
    "\n",
    "A good hash function will produce digests with large differences even for input strings with small variations."
   ]
  },
  {
   "cell_type": "code",
   "execution_count": 1,
   "metadata": {},
   "outputs": [],
   "source": [
    "# Begin by importing the necessary modules\n",
    "\n",
    "from cryptography.hazmat.backends import default_backend\n",
    "from cryptography.hazmat.primitives import hashes"
   ]
  },
  {
   "cell_type": "markdown",
   "metadata": {},
   "source": [
    "We generate now two very similar messages which we will feed to the hash function to compare the outputs. "
   ]
  },
  {
   "cell_type": "code",
   "execution_count": 2,
   "metadata": {},
   "outputs": [
    {
     "name": "stdout",
     "output_type": "stream",
     "text": [
      "The two messages differ by 1 characters\n"
     ]
    }
   ],
   "source": [
    "#Helper function that returns the number of characters different in two strings\n",
    "\n",
    "def char_diff(str1, str2):\n",
    "    return sum ( str1[i] != str2[i] for i in range(len(str1)) )\n",
    "\n",
    "# Messages to be hashed\n",
    "\n",
    "message_1 = b\"Buy 10000 shares of WXYZ stock now!\"\n",
    "message_2 = b\"Buy 10000 shares of VXYZ stock now!\"\n",
    "\n",
    "print(f\"The two messages differ by { char_diff(message_1, message_2)} characters\")"
   ]
  },
  {
   "cell_type": "markdown",
   "metadata": {},
   "source": [
    "We now have to instantiate a hash object and update it with the message to be hashed. We then finalize the hash and print the digest. This involves the calls to three methods."
   ]
  },
  {
   "cell_type": "code",
   "execution_count": 3,
   "metadata": {},
   "outputs": [],
   "source": [
    "# Create new SHA-256 hash objects, one for each message\n",
    "\n",
    "chf_1 = hashes.Hash(hashes.SHA256(), backend=default_backend())\n",
    "chf_2 = hashes.Hash(hashes.SHA256(), backend=default_backend())\n",
    "\n",
    "# Update each hash object with the bytes of the corresponding message\n",
    "\n",
    "chf_1.update(message_1)\n",
    "chf_2.update(message_2)\n",
    "\n",
    "# Finalize the hash process and obtain the digests\n",
    "\n",
    "digest_1 = chf_1.finalize()\n",
    "digest_2 = chf_2.finalize()"
   ]
  },
  {
   "cell_type": "code",
   "execution_count": 4,
   "metadata": {},
   "outputs": [
    {
     "data": {
      "text/plain": [
       "b'n\\x0eba\\xb7\\x13\\x1b\\xd8\\x0f\\xfd\\xb2\\xa4\\xd4/\\x9d\\x04&65\\x0eE\\xe1\\x84\\xb9/\\xcb\\xcc\\x96F\\xea\\xf1\\xe7'"
      ]
     },
     "execution_count": 4,
     "metadata": {},
     "output_type": "execute_result"
    }
   ],
   "source": [
    "digest_1"
   ]
  },
  {
   "cell_type": "markdown",
   "metadata": {},
   "source": [
    "We need to convert the digests to some more readable (or printeable) format, e.g. hexadecimal strings."
   ]
  },
  {
   "cell_type": "code",
   "execution_count": 5,
   "metadata": {},
   "outputs": [
    {
     "name": "stdout",
     "output_type": "stream",
     "text": [
      "digest-1: 6e0e6261b7131bd80ffdb2a4d42f9d042636350e45e184b92fcbcc9646eaf1e7\n",
      "digest-2: 6b0abb368c3a1730f935b68105e3f3ae7fd43d7e786d3ed3503dbb45c74ada46\n",
      "The two digests differ by 57 characters\n"
     ]
    }
   ],
   "source": [
    "#Convert the resulting hash to hexadecimal strings for convenient printing\n",
    "\n",
    "digest_1_str = digest_1.hex()\n",
    "digest_2_str = digest_2.hex()\n",
    "\n",
    "#Print out the digests as strings \n",
    "\n",
    "print(f\"digest-1: {digest_1_str}\")\n",
    "print(f\"digest-2: {digest_2_str}\")\n",
    "\n",
    "print(f\"The two digests differ by { char_diff(digest_1_str, digest_2_str)} characters\")"
   ]
  },
  {
   "cell_type": "markdown",
   "metadata": {},
   "source": [
    "This shows the 'avalanche effect' in the SHA-256 algorithm. We started with two strings difering only in one character. The digests then differ by 57 characters!"
   ]
  },
  {
   "cell_type": "markdown",
   "metadata": {},
   "source": [
    "## SYMMETRIC KEY CRYPTOGRAPHY (SKC)"
   ]
  },
  {
   "cell_type": "markdown",
   "metadata": {},
   "source": [
    "### Illustration of Symmetric Key Encryption (SKE)\n",
    "\n",
    "We illustrate the implementation of the encrypt and decrypt operations using the classical cipher Caesar and the more modern Advanced Encryption System  (AES). The latter has been the standard for symmetric key encryption since 2001."
   ]
  },
  {
   "cell_type": "code",
   "execution_count": 6,
   "metadata": {},
   "outputs": [],
   "source": [
    "# import the required crypto functions which will be demonstrated later\n",
    "from secretpy import Caesar\n",
    "\n",
    "from cryptography.hazmat.primitives.ciphers import Cipher, algorithms, modes\n",
    "from functools import reduce\n",
    "import numpy as np"
   ]
  },
  {
   "cell_type": "code",
   "execution_count": 7,
   "metadata": {},
   "outputs": [
    {
     "name": "stdout",
     "output_type": "stream",
     "text": [
      "\n",
      "Given plaintext: nobody can see this message. in particular, not my wife.\n"
     ]
    }
   ],
   "source": [
    "# We now write down a message for encryption\n",
    "\n",
    "plaintext=u\"nobody can see this message. in particular, not my wife.\"\n",
    "\n",
    "print(f\"\\nGiven plaintext: {plaintext}\")"
   ]
  },
  {
   "cell_type": "markdown",
   "metadata": {},
   "source": [
    "#### Caesar shift cipher:\n",
    "\n",
    "Caesar shift encryption involves defining\n",
    "\n",
    " - An alphabet of possible characters to encode\n",
    " - A shift value which can be between 0 (unencrypted) and the length of the alphabet. We consider this the key.\n",
    "\n",
    "It is known as a monoalphabetic substitution cipher since each letter of the plain text is substituted with another in the ciphertext."
   ]
  },
  {
   "cell_type": "code",
   "execution_count": 8,
   "metadata": {},
   "outputs": [
    {
     "name": "stdout",
     "output_type": "stream",
     "text": [
      "Caesar shift secret key: 5\n",
      "alphabet: ('a', 'b', 'c', 'd', 'e', 'f', 'g', 'h', 'i', 'j', 'k', 'l', 'm', 'n', 'o', 'p', 'q', 'r', 's', 't', 'u', 'v', 'w', 'x', 'y', 'z', ' ', '.', ',')\n"
     ]
    }
   ],
   "source": [
    "# initialize the required python object for doing Caesar shift encryption\n",
    "caesar_cipher = Caesar()\n",
    "\n",
    "# Define the shift, ie the key\n",
    "caesar_key = 5 \n",
    "print(f\"Caesar shift secret key: {caesar_key}\")\n",
    "\n",
    "# Define the alphabet. Note that symbols, special characters and Capital letters must be included in the alphabet.\n",
    "\n",
    "alphabet=('a', 'b', 'c', 'd', 'e', 'f', 'g', 'h', 'i', 'j', 'k', 'l', 'm', 'n', 'o', 'p', 'q', 'r', 's', 't', 'u', 'v', 'w', 'x', 'y', 'z', ' ', '.', ',')\n",
    "print(f\"alphabet: {alphabet}\")"
   ]
  },
  {
   "cell_type": "markdown",
   "metadata": {},
   "source": [
    "Let's encrypt and check the ciphertext"
   ]
  },
  {
   "cell_type": "code",
   "execution_count": 9,
   "metadata": {},
   "outputs": [
    {
     "name": "stdout",
     "output_type": "stream",
     "text": [
      "Encrypted caeser shift ciphertext: stgtiachfscxjjcymnxcrjxxfljdcnscufwynhzqfwecstycrac.nkjd\n"
     ]
    }
   ],
   "source": [
    "caeser_ciphertext = caesar_cipher.encrypt(plaintext, caesar_key, alphabet)\n",
    "print(f\"Encrypted caeser shift ciphertext: {caeser_ciphertext}\")"
   ]
  },
  {
   "cell_type": "markdown",
   "metadata": {},
   "source": [
    "Nice! Now, we can decrypt the message. We have to use the same key."
   ]
  },
  {
   "cell_type": "code",
   "execution_count": 10,
   "metadata": {},
   "outputs": [
    {
     "name": "stdout",
     "output_type": "stream",
     "text": [
      "Decrypted caeser shift plaintext: nobody can see this message. in particular, not my wife.\n",
      "\n"
     ]
    }
   ],
   "source": [
    "caeser_plaintext = caesar_cipher.decrypt(caeser_ciphertext, caesar_key, alphabet)\n",
    "print(f\"Decrypted caeser shift plaintext: {caeser_plaintext}\\n\")"
   ]
  },
  {
   "cell_type": "markdown",
   "metadata": {},
   "source": [
    "Decryption fails if using a different key (shift value)"
   ]
  },
  {
   "cell_type": "code",
   "execution_count": 11,
   "metadata": {},
   "outputs": [
    {
     "name": "stdout",
     "output_type": "stream",
     "text": [
      "Decrypted caeser shift plaintext: ijzj.tv yivn,,vocdnvh,nnyb,wvdivkymod pgymxvijovhtvrda,w\n",
      "\n"
     ]
    }
   ],
   "source": [
    "caesar_key_2 = 10\n",
    "\n",
    "caeser_plaintext = caesar_cipher.decrypt(caeser_ciphertext, caesar_key_2, alphabet)\n",
    "print(f\"Decrypted caeser shift plaintext: {caeser_plaintext}\\n\")"
   ]
  },
  {
   "cell_type": "markdown",
   "metadata": {},
   "source": [
    "#### Advanced encryption standard (AES) cipher\n",
    "\n",
    "We now encrypt the plain text using AES, a popular symmetric key encryption algorithm.\n",
    "\n",
    "We start by creating the key, in this case, a random 16-letter string."
   ]
  },
  {
   "cell_type": "code",
   "execution_count": 12,
   "metadata": {},
   "outputs": [
    {
     "name": "stdout",
     "output_type": "stream",
     "text": [
      "AES secret key: r yeoqkydifpmobd\n"
     ]
    }
   ],
   "source": [
    "# lamba defines an inline function in this case that takes two values a,b with the resulting expression of a+b\n",
    "# reduce uses a two-argument function(above), and applies this to all the entries in the list (random alphabet characters) cumulatively\n",
    "\n",
    "alphabet=('a', 'b', 'c', 'd', 'e', 'f', 'g', 'h', 'i', 'j', 'k', 'l', 'm', 'n', 'o', 'p', 'q', 'r', 's', 't', 'u', 'v', 'w', 'x', 'y', 'z', ' ')\n",
    "\n",
    "aes_key = reduce(lambda a, b: a + b, [np.random.choice(alphabet) for i in range(16)])\n",
    "\n",
    "print(f'AES secret key: {aes_key}')"
   ]
  },
  {
   "cell_type": "markdown",
   "metadata": {},
   "source": [
    "AES supports multiple operating modes and requires we specify which to use.\n",
    "\n",
    "We choose the Cipher Block Chaining (CBC) mode provided by the\n",
    "class of the library. The CBC mode of AES uses randomness for additional security. This requires specifying a random Initialization Vector (IV), also called a . We will use a random string for this as well, just like we did for the key."
   ]
  },
  {
   "cell_type": "code",
   "execution_count": 13,
   "metadata": {},
   "outputs": [
    {
     "name": "stdout",
     "output_type": "stream",
     "text": [
      "AES initialization vector: gkyp xbhg xhdcoe\n"
     ]
    }
   ],
   "source": [
    "aes_initialization_vector = reduce(lambda a, b: a + b, [np.random.choice(alphabet) for i in range(16)])\n",
    "print(f\"AES initialization vector: {aes_initialization_vector}\")"
   ]
  },
  {
   "cell_type": "markdown",
   "metadata": {},
   "source": [
    "We can now instantiate an AES cipher on behalf of the sender of the secret message.  \n",
    "\n",
    "We will then encrypt the plain text to send."
   ]
  },
  {
   "cell_type": "code",
   "execution_count": 14,
   "metadata": {},
   "outputs": [
    {
     "ename": "ValueError",
     "evalue": "The length of the provided data is not a multiple of the block length.",
     "output_type": "error",
     "traceback": [
      "\u001b[0;31m---------------------------------------------------------------------------\u001b[0m",
      "\u001b[0;31mValueError\u001b[0m                                Traceback (most recent call last)",
      "Cell \u001b[0;32mIn[14], line 10\u001b[0m\n\u001b[1;32m      6\u001b[0m plaintext\u001b[38;5;241m=\u001b[39m\u001b[38;5;124mu\u001b[39m\u001b[38;5;124m\"\u001b[39m\u001b[38;5;124mnobody can see this message now or never\u001b[39m\u001b[38;5;124m\"\u001b[39m\n\u001b[1;32m      8\u001b[0m \u001b[38;5;66;03m# update can add text to encypt in chunks, and then finalize is needed to complete the encryption process\u001b[39;00m\n\u001b[0;32m---> 10\u001b[0m aes_ciphertext \u001b[38;5;241m=\u001b[39m aes_encryptor\u001b[38;5;241m.\u001b[39mupdate(\u001b[38;5;28mbytes\u001b[39m(plaintext, \u001b[38;5;124m'\u001b[39m\u001b[38;5;124mutf-8\u001b[39m\u001b[38;5;124m'\u001b[39m)) \u001b[38;5;241m+\u001b[39m \u001b[43maes_encryptor\u001b[49m\u001b[38;5;241;43m.\u001b[39;49m\u001b[43mfinalize\u001b[49m\u001b[43m(\u001b[49m\u001b[43m)\u001b[49m\n\u001b[1;32m     12\u001b[0m \u001b[38;5;66;03m# Note the output is a string of bytes\u001b[39;00m\n\u001b[1;32m     14\u001b[0m \u001b[38;5;28mprint\u001b[39m(\u001b[38;5;124mf\u001b[39m\u001b[38;5;124m\"\u001b[39m\u001b[38;5;124mEncrypted AES ciphertext: \u001b[39m\u001b[38;5;132;01m{\u001b[39;00maes_ciphertext\u001b[38;5;132;01m}\u001b[39;00m\u001b[38;5;124m\"\u001b[39m)\n",
      "\u001b[0;31mValueError\u001b[0m: The length of the provided data is not a multiple of the block length."
     ]
    }
   ],
   "source": [
    "# The encryptor is setup using the key & CBC. In both cases we need to convert the string (utf-8) into bytes\n",
    "\n",
    "sender_aes_cipher = Cipher(algorithms.AES(bytes(aes_key, 'utf-8')), modes.CBC(bytes(aes_initialization_vector, 'utf-8')))\n",
    "aes_encryptor = sender_aes_cipher.encryptor()\n",
    "\n",
    "plaintext=u\"nobody can see this message now or never\"\n",
    "\n",
    "# update can add text to encypt in chunks, and then finalize is needed to complete the encryption process\n",
    "\n",
    "aes_ciphertext = aes_encryptor.update(bytes(plaintext, 'utf-8')) + aes_encryptor.finalize()\n",
    "\n",
    "# Note the output is a string of bytes\n",
    "\n",
    "print(f\"Encrypted AES ciphertext: {aes_ciphertext}\")"
   ]
  },
  {
   "cell_type": "markdown",
   "metadata": {},
   "source": [
    "Oh, an error. Let's check the length of the plaintext."
   ]
  },
  {
   "cell_type": "code",
   "execution_count": 15,
   "metadata": {},
   "outputs": [
    {
     "name": "stdout",
     "output_type": "stream",
     "text": [
      "\n",
      "Given plaintext: nobody can see this message now or never\n",
      "Plaintext length: 40 bytes\n",
      "Plaintext length is a multiple of the block lenght (16 bytes).\n"
     ]
    }
   ],
   "source": [
    "# Convierte el texto plano a bytes\n",
    "plaintext_bytes = bytes(plaintext, 'utf-8')\n",
    "\n",
    "print(f\"\\nGiven plaintext: {plaintext}\")\n",
    "\n",
    "# Imprime la longitud del texto plano en bytes\n",
    "print(f\"Plaintext length: {len(plaintext_bytes)} bytes\")\n",
    "\n",
    "# Comprueba si la longitud es múltiplo de 16\n",
    "if len(plaintext_bytes) % 16 == 0:\n",
    "    print(\"Plaintext length is a multiple of the block lenght (16 bytes).\")\n",
    "else:\n",
    "    print(\"Plaintext length is a multiple of the block lenght (16 bytes).\")\n"
   ]
  },
  {
   "cell_type": "code",
   "execution_count": 16,
   "metadata": {},
   "outputs": [
    {
     "name": "stdout",
     "output_type": "stream",
     "text": [
      "Número de caracteres ASCII: 40\n"
     ]
    }
   ],
   "source": [
    "# Contar el número de caracteres ASCII\n",
    "ascii_count = sum(1 for char in plaintext if ord(char) < 128)\n",
    "\n",
    "# Imprimir el número de caracteres ASCII\n",
    "print(f\"Número de caracteres ASCII: {ascii_count}\")"
   ]
  },
  {
   "cell_type": "markdown",
   "metadata": {},
   "source": [
    "We can simply generate a more suitable message, with number of ASCII characters (or byte length) proportional to 16. We can also circumvent this issue by automatic padding of the original message."
   ]
  },
  {
   "cell_type": "code",
   "execution_count": 17,
   "metadata": {},
   "outputs": [
    {
     "name": "stdout",
     "output_type": "stream",
     "text": [
      "Encrypted AES ciphertext: b\"\\x1aV\\x84\\x1a\\xb1\\x15Z\\xa4\\x8d4\\xf4Y\\xa1\\xe6'\\xd6\\x9c)#kW\\xc1\\x01\\xe8e\\xc6\\xc2\\x0e\\xff\\xbdQ\\x8e\\x82{g\\x9c\\xa6\\xa2\\xb4`\\xbf\\x84$h\\xb7\\xac\\xe0\\xbf\"\n"
     ]
    }
   ],
   "source": [
    "# The encryptor is setup using the key & CBC. In both cases we need to convert the string (utf-8) into bytes\n",
    "\n",
    "sender_aes_cipher = Cipher(algorithms.AES(bytes(aes_key, 'utf-8')), modes.CBC(bytes(aes_initialization_vector, 'utf-8')))\n",
    "aes_encryptor = sender_aes_cipher.encryptor()\n",
    "\n",
    "# New message with proper number of ASCII characters\n",
    "\n",
    "plaintext_=u\"no one except my dude can never see this message\"\n",
    "\n",
    "# update can add text to encypt in chunks, and then finalize is needed to complete the encryption process\n",
    "\n",
    "aes_ciphertext_ = aes_encryptor.update(bytes(plaintext_, 'utf-8')) + aes_encryptor.finalize()\n",
    "\n",
    "# Note the output is a string of bytes\n",
    "\n",
    "print(f\"Encrypted AES ciphertext: {aes_ciphertext_}\")"
   ]
  },
  {
   "cell_type": "code",
   "execution_count": 18,
   "metadata": {},
   "outputs": [
    {
     "name": "stdout",
     "output_type": "stream",
     "text": [
      "Encrypted AES ciphertext: b'`\\x8e\\xab\\x93\\xb1\\x96n\\\\\\xffkD;w\\x8a)\\xb0\\xe3\\xc5\\xab2\\x0c\\x97o\\x94yyx\\xf2$A\\x93\\x85\\xf2\\xf9\\xffL\\x85<\\xa3\\x1e\\x15\\xebLxx\\x00\\xb7\\xaa'\n"
     ]
    }
   ],
   "source": [
    "# We implement padding to make the message length a multiple of 16 bytes\n",
    "\n",
    "from cryptography.hazmat.primitives import padding\n",
    "\n",
    "sender_aes_cipher = Cipher(algorithms.AES(bytes(aes_key, 'utf-8')), modes.CBC(bytes(aes_initialization_vector, 'utf-8')))\n",
    "aes_encryptor = sender_aes_cipher.encryptor()\n",
    "\n",
    "# Tamaño del bloque de AES es 128 bits (16 bytes)\n",
    "block_size = 128\n",
    "\n",
    "# Crea un objeto padder para agregar el relleno PKCS7\n",
    "padder = padding.PKCS7(block_size).padder()\n",
    "\n",
    "# Aplica el padding al texto plano\n",
    "padded_plaintext = padder.update(bytes(plaintext, 'utf-8')) + padder.finalize()\n",
    "\n",
    "# Encripta el texto con padding\n",
    "aes_ciphertext = aes_encryptor.update(padded_plaintext) + aes_encryptor.finalize()\n",
    "\n",
    "# Nota que el resultado sigue siendo un string de bytes\n",
    "print(f\"Encrypted AES ciphertext: {aes_ciphertext}\")"
   ]
  },
  {
   "cell_type": "markdown",
   "metadata": {},
   "source": [
    "We now show how to decypher the message. Let us try first with the simpler scenario, with a message properly defined to have the adequate bytes length. The logic is similar to the encryption steps."
   ]
  },
  {
   "cell_type": "code",
   "execution_count": 20,
   "metadata": {},
   "outputs": [
    {
     "name": "stdout",
     "output_type": "stream",
     "text": [
      "Decrypted AES plaintext: no one except my dude can never see this message\n"
     ]
    }
   ],
   "source": [
    "# Similar setup of AES to what we did for encryption, but this time, for decryption\n",
    "receiver_aes_cipher = Cipher(algorithms.AES(bytes(aes_key, 'utf-8')), modes.CBC(bytes(aes_initialization_vector, 'utf-8')))\n",
    "aes_decryptor = receiver_aes_cipher.decryptor()\n",
    "\n",
    "# Do the decryption\n",
    "aes_plaintext_bytes = aes_decryptor.update(aes_ciphertext_) + aes_decryptor.finalize()\n",
    "\n",
    "# convert back to a character string (we assume utf-8)\n",
    "aes_plaintext_ = aes_plaintext_bytes.decode('utf-8')\n",
    "\n",
    "print(f\"Decrypted AES plaintext: {aes_plaintext_}\")"
   ]
  },
  {
   "cell_type": "markdown",
   "metadata": {},
   "source": [
    "Note that if you try to decrypt the padded message, the plaintext will be likely wrong. "
   ]
  },
  {
   "cell_type": "code",
   "execution_count": 21,
   "metadata": {},
   "outputs": [
    {
     "name": "stdout",
     "output_type": "stream",
     "text": [
      "Decrypted AES plaintext: nobody can see this message now or nev\n"
     ]
    }
   ],
   "source": [
    "# Similar setup of AES to what we did for encryption, but this time, for decryption\n",
    "receiver_aes_cipher = Cipher(algorithms.AES(bytes(aes_key, 'utf-8')), modes.CBC(bytes(aes_initialization_vector, 'utf-8')))\n",
    "aes_decryptor = receiver_aes_cipher.decryptor()\n",
    "\n",
    "# Do the decryption\n",
    "aes_plaintext_bytes = aes_decryptor.update(aes_ciphertext) + aes_decryptor.finalize()\n",
    "\n",
    "# convert back to a character string (we assume utf-8)\n",
    "aes_plaintext = aes_plaintext_bytes.decode('utf-8')\n",
    "\n",
    "print(f\"Decrypted AES plaintext: {aes_plaintext}\")"
   ]
  },
  {
   "cell_type": "markdown",
   "metadata": {},
   "source": [
    "We need to remove the padding!"
   ]
  },
  {
   "cell_type": "code",
   "execution_count": 23,
   "metadata": {},
   "outputs": [
    {
     "name": "stdout",
     "output_type": "stream",
     "text": [
      "Decrypted message: nobody can see this message now or never\n"
     ]
    }
   ],
   "source": [
    "# Create the Cipher object for decryption\n",
    "cipher = Cipher(algorithms.AES(bytes(aes_key, 'utf-8')), modes.CBC(bytes(aes_initialization_vector, 'utf-8')))\n",
    "aes_decryptor = cipher.decryptor()\n",
    "\n",
    "# Decrypt the ciphertext\n",
    "decrypted_padded_plaintext = aes_decryptor.update(aes_ciphertext) + aes_decryptor.finalize()\n",
    "\n",
    "# Remove padding\n",
    "unpadder = padding.PKCS7(algorithms.AES.block_size).unpadder()\n",
    "unpadded_plaintext = unpadder.update(decrypted_padded_plaintext) + unpadder.finalize()\n",
    "\n",
    "# Convert bytes back to a string\n",
    "decrypted_message = unpadded_plaintext.decode('utf-8')\n",
    "\n",
    "# Print the decrypted message\n",
    "print(f\"Decrypted message: {decrypted_message}\")"
   ]
  },
  {
   "cell_type": "markdown",
   "metadata": {},
   "source": [
    "## ASSYMETRIC KEY CRYPTOGRAPHY (AKC)"
   ]
  },
  {
   "cell_type": "markdown",
   "metadata": {},
   "source": [
    "### Illustration of the RSA Algorithm\n",
    "\n",
    "The RSA (RIVEST-SHAMIR-ADLEMAN) algorithm is one of the first public key cryptosystems and is widely used for secure data transmission. It is a versatile cryptosystem: it provides the necessary operations to enable encryption, decryption, digital signatures, and key exchange within a common framework.\n",
    "\n",
    "In this section, we will illustrate asymmetric key cryptography (AKC) using RSA through simple examples.\n",
    "\n",
    "As usual, we consider two parties, Alice and Bob, who wish to communicate a message securely using AKC."
   ]
  },
  {
   "cell_type": "markdown",
   "metadata": {},
   "source": [
    "#### KEY GENERATION\n",
    "\n",
    "The key generation step of the RSA algorithm requires of computing the greatest common divisor (gcd) of two integers. This is used to test if two integeres are coprime. In Python, the math module has a method for doing this. We can also define our own function for the same purpose."
   ]
  },
  {
   "cell_type": "code",
   "execution_count": 24,
   "metadata": {},
   "outputs": [
    {
     "name": "stdout",
     "output_type": "stream",
     "text": [
      "gcd(50,10) = 10\n",
      "gcd(99,1033) = 33\n",
      "gcd(59,9) = 1\n"
     ]
    }
   ],
   "source": [
    "import math as mt\n",
    "\n",
    "# Example function to compute the gcd of two numbers\n",
    "\n",
    "def gcd(a,b):\n",
    "    if b==0:\n",
    "        return a\n",
    "    else:\n",
    "        return gcd(b,a%b)\n",
    "    \n",
    "# let's check some examples using our function and the math module\n",
    "\n",
    "n1=gcd(50,10)\n",
    "n2=gcd(99,33)\n",
    "n3=gcd(59,9)\n",
    "\n",
    "m1=mt.gcd(50,10)\n",
    "m2=mt.gcd(99,33)\n",
    "m3=mt.gcd(59,9)\n",
    "\n",
    "# Confirm they are the same\n",
    "assert(n1==m1)\n",
    "assert(n2==m2)\n",
    "assert(n3==m3)\n",
    "\n",
    "# They are - print out the values for explanation\n",
    "print(\"gcd(50,10) =\", m1)\n",
    "print(\"gcd(99,1033) =\", m2)\n",
    "print(\"gcd(59,9) =\", m3)"
   ]
  },
  {
   "cell_type": "markdown",
   "metadata": {},
   "source": [
    "Let's start with the actual key generation step of the RSA! We have to choose two prime numbers which shall be kept secret. Ideally, the prime numbers must have different lengths.\n",
    "\n",
    "PD: We might need to check if the choices are really prime numbers. We can do this by the Sympy built-in method."
   ]
  },
  {
   "cell_type": "code",
   "execution_count": 25,
   "metadata": {},
   "outputs": [
    {
     "name": "stdout",
     "output_type": "stream",
     "text": [
      "Requirement already satisfied: sympy in /Users/danielsb/opt/anaconda3/envs/qcomp/lib/python3.12/site-packages (1.13.0)\n",
      "Requirement already satisfied: mpmath<1.4,>=1.1.0 in /Users/danielsb/opt/anaconda3/envs/qcomp/lib/python3.12/site-packages (from sympy) (1.3.0)\n",
      "Note: you may need to restart the kernel to use updated packages.\n"
     ]
    }
   ],
   "source": [
    "%pip install sympy"
   ]
  },
  {
   "cell_type": "code",
   "execution_count": 27,
   "metadata": {},
   "outputs": [
    {
     "name": "stdout",
     "output_type": "stream",
     "text": [
      "The secret prime numbers are (17, True) and (113, True)\n"
     ]
    }
   ],
   "source": [
    "from sympy import isprime\n",
    "\n",
    "# Choose two numbers and check if they are prime\n",
    "\n",
    "p = 17\n",
    "q = 113\n",
    "\n",
    "print(f'The secret prime numbers are {p, isprime(p)} and {q, isprime(q)}')"
   ]
  },
  {
   "cell_type": "markdown",
   "metadata": {},
   "source": [
    "The next step is to compute the modulus (n) and the totient ($\\phi$(n)) of the chosen prime numbers. \n",
    "\n",
    "The modulus n will be shared publicly. The Totient function will be needed for the modular multiplicative inverse used to determine the keys, and will be kept secret. It is also typically discarded after key generation.  "
   ]
  },
  {
   "cell_type": "code",
   "execution_count": 30,
   "metadata": {},
   "outputs": [
    {
     "name": "stdout",
     "output_type": "stream",
     "text": [
      "The public modulus n = 1921 and the Euler totient function [phi(n)] = 1792\n"
     ]
    }
   ],
   "source": [
    "n = p * q\n",
    "phi = (p - 1) * (q - 1)\n",
    "\n",
    "print(f'The public modulus n = {n} and the Euler totient function [phi(n)] = {phi}')"
   ]
  },
  {
   "cell_type": "markdown",
   "metadata": {},
   "source": [
    "We can now compute the public and private RSA keys. We will later specify them as a tuple of integers, the first entry being different, while the second entry will always be the modulus n.\n",
    "\n",
    "The first entry in the public key can be any integer $e$ greater than 1 that is coprime to $\\phi$(n)\n",
    "\n",
    "The private key requires an integer $d$, which is the multiplicative inverse of $e$, satisfying the congruence relation $d * e \\equiv 1\\,\\mathrm{mod}\\phi(n)$. The suitable $d$ might be found by looping over the positive integers. \n",
    "\n",
    "PD: In real-life settings, people use the computationally efficient extended Euclidean algorithm."
   ]
  },
  {
   "cell_type": "code",
   "execution_count": 35,
   "metadata": {},
   "outputs": [
    {
     "name": "stdout",
     "output_type": "stream",
     "text": [
      "Private Key (d,n): (1195, 1921)\n",
      "Public Key (e,n): (3, 1921)\n"
     ]
    }
   ],
   "source": [
    "# Choose an integer e such that e and φ(n) are coprime\n",
    "e = 2\n",
    "while (e < phi):\n",
    "    if (mt.gcd(e, phi)==1):\n",
    "        break\n",
    "    else:\n",
    "        e += 1\n",
    "        \n",
    "# Compute a value for d such that (d * e) % φ(n) = 1\n",
    "d = 1\n",
    "while(True):\n",
    "    if((d*e) % phi == 1):\n",
    "        break\n",
    "    else:\n",
    "        d += 1\n",
    "        \n",
    "# We form the tuples for the public and private keys\n",
    "\n",
    "pubkey = (e,n)\n",
    "privkey = (d,n)\n",
    "            \n",
    "print(\"Private Key (d,n):\", privkey)\n",
    "print(\"Public Key (e,n):\", pubkey)"
   ]
  },
  {
   "cell_type": "markdown",
   "metadata": {},
   "source": [
    "In RSA, encryption and decryption use the modular exponentiation algorithm. The complementarity between the public and private keys allows for encryption and decryption of a given message. \n",
    "\n",
    "Let us illustrate both steps on an integer message.\n",
    "\n",
    "PD: We use here small numbers for illustration. In practice, RSA requires of the usage of very large integers. In 2048-bit RSA we shall use a modulus $n$ that is 2048 bits long. This is crucial for practical security of the protocol."
   ]
  },
  {
   "cell_type": "code",
   "execution_count": 36,
   "metadata": {},
   "outputs": [
    {
     "name": "stdout",
     "output_type": "stream",
     "text": [
      "Original Message: 9\n",
      "Encrypted Message: 729\n",
      "Decrypted Message: 9\n"
     ]
    }
   ],
   "source": [
    "def encrypt(plaintext):\n",
    "    return (plaintext ** e) % n\n",
    "\n",
    "def decrypt(ciphertext):\n",
    "    return (ciphertext ** d) % n\n",
    "\n",
    "# Define a simple message to encode (an integer)\n",
    "\n",
    "msg = 9\n",
    "\n",
    "# Encrypt & Decrypt the message\n",
    "\n",
    "enc_msg = encrypt(msg)\n",
    "dec_msg = decrypt(enc_msg)\n",
    "\n",
    "print(\"Original Message:\",msg)\n",
    "print(\"Encrypted Message:\",enc_msg)\n",
    "print(\"Decrypted Message:\",dec_msg)"
   ]
  },
  {
   "cell_type": "markdown",
   "metadata": {},
   "source": [
    "#### SYMMETRIC KEY EXCHANGE\n",
    "\n",
    "AKC enables secure communication between Alice and Bob by establishing a shared secret, which can be used, for instance, as the secret key for symmetric encryption of a given message.\n",
    "\n",
    "We now illustrate the two ways Alice and Bob have to share this secret key. These are the Padding-based Key Exchange or the Key Encapsulation Mechanism."
   ]
  },
  {
   "cell_type": "markdown",
   "metadata": {},
   "source": [
    "#### Padding-based key exchange\n",
    "\n",
    "This is a non-interactive key exchange. In Python, we can implement it by means of the cryptography module. Alice generates a random secret key, which then shall be transmitted to Bob."
   ]
  },
  {
   "cell_type": "code",
   "execution_count": 40,
   "metadata": {},
   "outputs": [
    {
     "name": "stdout",
     "output_type": "stream",
     "text": [
      "\n",
      "Symmetric key generated by Alice: b'X01oYSsuaNocSSx0MuEymIwuc8P3y1KvtL97pP5ReoU='\n",
      "\n",
      "Public key broadcast by Bob: <cryptography.hazmat.bindings._rust.openssl.rsa.RSAPublicKey object at 0x11ab22a90>\n",
      "Public numbers in Bobs' public key: <RSAPublicNumbers(e=65537, n=22775269966844386908382650347145375119290038890115977323139224851673190694800644504975986369545861992307757396422418500912961982254771317084169403811846482060382979780090095156335213240585333262514313215070913787726898343224406452227807116093685006052592600729730381252970106489795982009508343362312494437638315161214838794654628060607448546450192009741527598095760878911741968177388513395703362622175656103555062004596485282278441231829839511504331171999963905848170023610159721921652275347012723295976506282150974252974158754538476562718926324638260686467553609002910130339746101541252392830219217485091301762880389)>\n"
     ]
    }
   ],
   "source": [
    "from cryptography.hazmat.primitives import serialization\n",
    "from cryptography.hazmat.primitives.asymmetric import rsa, padding\n",
    "from cryptography.fernet import Fernet\n",
    "from cryptography.hazmat.primitives import hashes\n",
    "\n",
    "# Alice generates a symmetric key\n",
    "\n",
    "a_symmetric_key = Fernet.generate_key()\n",
    "print(f\"\\nSymmetric key generated by Alice: {a_symmetric_key}\")\n",
    "\n",
    "# Bob generates a 2048-bit RSA key pair\n",
    "\n",
    "bob_private_key = rsa.generate_private_key(public_exponent=65537, key_size=2048)\n",
    "bob_public_key = bob_private_key.public_key()\n",
    "print(f\"\\nPublic key broadcast by Bob: {bob_public_key}\")\n",
    "print(f\"Public numbers in Bobs' public key: {bob_public_key.public_numbers()}\")"
   ]
  },
  {
   "cell_type": "markdown",
   "metadata": {},
   "source": [
    "Let us now assume that Alice has received the public key broadcast by bob. Alice's symmetric key above will now be encrypted using Bob's public key to produce a ciphertext. Realistically, Alice has to use additional padding methods such as OAEP to enforce semantic security."
   ]
  },
  {
   "cell_type": "code",
   "execution_count": 41,
   "metadata": {},
   "outputs": [
    {
     "name": "stdout",
     "output_type": "stream",
     "text": [
      "Alice generated Ciphertext: b'\\\\\\x8d\\xa1\\xa8\\x81\\xbc\\x9b\\xd4\\x9d\\x89\\x85\\x84#\\x1e@3\\x1e{\\xd7\\xb1n9!F\\xee\\xa0\\xd0pq\\xf8B\\x98\\xf8\\x0c\\xb2\\xcf\\xda\\xd1\\x0b\\xa86)\\xe5]\\x14\\xe4\\xa8\\xfd5\\xb8\\xaa8#\\xed\\x04\\xde\\xd5\\xadK\\x86\\x1c\\x04y$\\xb7.)ui\\x07)\\xe1h\\x17\\x02U\\x81z?\\xf9\\x0f-\\xc0\\xd8\\xb1\\xbc\\xe8\\x1aN;a\\xfb\\xc6z\\xffJ\\x81\\xec\\xdd\\x0c\\\\+U\\x118\\x17\\x80n\\xea\\x12\\x01;N\\xb1\\xf7\\xb9\"\\xd2\\x07p\\x1f\\x96\\x7f&B\\xaa\\xdb\"\\x18\\x92G\\xe7B\\xa4\\x0es\\xa6\\xfb\\xbdW8\\x0c\\x98\\xf9K\\xdf\\xfa;\\x9dB\\x05\\xc0G\\x1e\\xc2\\x91{\\t\\xed_=P\\x99ZGC\\t\\x94x\\xcd\\xdd \\x1b\\tV\\xe5#61\\xdb:\\xca\\xfdH\\xfa\\x96g\\xef0]\\xb7\\x83\\xe6\\xb1\\x0f+\\x08\\x8c\\xa3\\xb9\\x9e\\x00\\xfeo\\xd4\\xbf#\\x9a\\xd0!\\x9b\\xb7\\x0e\\x05\\x1a\\x16\\xb2>)\\x82\\x17#(L\\x89*\\x14\\x95C\\x8e\\x7f\\xb2{\\x11w\\x99\\xb1]\\xa0\\xfa\\xd1\\xc7f\\x87\\xba\\xcb\\xd0\\xbc\\xe6Z\\\\\\x14\\xefu\\x89,'\n"
     ]
    }
   ],
   "source": [
    "# Encryption\n",
    "ciphertext = bob_public_key.encrypt(\n",
    "   a_symmetric_key,\n",
    "   padding.OAEP(\n",
    "       mgf=padding.MGF1(algorithm=hashes.SHA256()),\n",
    "       algorithm=hashes.SHA256(),\n",
    "       label=None\n",
    "   )\n",
    ")\n",
    "\n",
    "print(\"Alice generated Ciphertext:\", ciphertext)"
   ]
  },
  {
   "cell_type": "markdown",
   "metadata": {},
   "source": [
    "Now, Alice sends the ciphertext over an open channel, trusing that only Bob can decrypt it by using the corresponding private key. We assume the communication step and illustrate Bob work."
   ]
  },
  {
   "cell_type": "code",
   "execution_count": 42,
   "metadata": {},
   "outputs": [
    {
     "name": "stdout",
     "output_type": "stream",
     "text": [
      "Decrypted key: b'X01oYSsuaNocSSx0MuEymIwuc8P3y1KvtL97pP5ReoU='\n"
     ]
    }
   ],
   "source": [
    "# Bob decrypts ciphertext to access the symmetric key\n",
    "decrypted_symmetric_key = bob_private_key.decrypt(\n",
    "   ciphertext,\n",
    "   padding.OAEP(\n",
    "       mgf=padding.MGF1(algorithm=hashes.SHA256()),\n",
    "       algorithm=hashes.SHA256(),\n",
    "       label=None\n",
    "   )\n",
    ")\n",
    "\n",
    "print(\"Decrypted key:\", decrypted_symmetric_key)\n",
    "assert decrypted_symmetric_key == a_symmetric_key"
   ]
  },
  {
   "cell_type": "markdown",
   "metadata": {},
   "source": [
    "Alice and Bob have now access to the secret symmetric key, which they can use for SKC. "
   ]
  },
  {
   "cell_type": "markdown",
   "metadata": {},
   "source": [
    "#### KEY ENCAPSULATION MECHANISM (KEM)\n",
    "\n",
    "We can also simulate a Key Encapsulation Mechanism (KEM) whereby a sufficiently long random secret message is securely exchanged and subsequently converted into a shared-secret of the appropriate length using a KDF.\n",
    "\n",
    "Once again Alice and Bob want to establish a shared secret non-interactively and Alice is the party that decides which secret to use.\n",
    "\n",
    "Bob can generate his RSA key pair and broadcast his public key."
   ]
  },
  {
   "cell_type": "code",
   "execution_count": 43,
   "metadata": {},
   "outputs": [
    {
     "name": "stdout",
     "output_type": "stream",
     "text": [
      "Bob's private and public keys created\n"
     ]
    }
   ],
   "source": [
    "from cryptography.hazmat.primitives.asymmetric import rsa, padding\n",
    "from cryptography.hazmat.primitives.kdf.hkdf import HKDF\n",
    "from cryptography.hazmat.primitives import hashes, serialization\n",
    "from os import urandom\n",
    "\n",
    "# Bob's RSA key pair\n",
    "\n",
    "private_key_Bob = rsa.generate_private_key(public_exponent=65537, key_size=2048)\n",
    "public_key_Bob = private_key_Bob.public_key()\n",
    "\n",
    "print(\"Bob's private and public keys created\")"
   ]
  },
  {
   "cell_type": "markdown",
   "metadata": {},
   "source": [
    "Alice first generates a long random secret from which the shared secret will be eventually derived. In a pure KEM, the long secret will be a random element from the algebraic structure underlying the cryptosystem. \n",
    "\n",
    "PD: pure KEM does not require additional padding but in this example we are only simulating a KEM using RSA and the cryptography library requires the use of padding when encrypting with RSA. So we will use a somewhat shorter long secret which nevertheless is much longer than a standard 256-bit AES key."
   ]
  },
  {
   "cell_type": "code",
   "execution_count": 45,
   "metadata": {},
   "outputs": [
    {
     "name": "stdout",
     "output_type": "stream",
     "text": [
      "Alice's secret created\n",
      "\n",
      "Alice's secret encrypted\n"
     ]
    }
   ],
   "source": [
    "# Alice generates a 1280 bit long secret (160 byte). Note that this is smaller than 2048-bit RSA, hence the need for additional padding.\n",
    "\n",
    "Alice_long_secret = urandom(160)\n",
    "print(\"Alice's secret created\")\n",
    "\n",
    "# Alice encrypts the long secret using Bob's public key and the encrpypted secret is communicated to Bob\n",
    "\n",
    "Alice_encrypted_secret = public_key_Bob.encrypt(\n",
    "    Alice_long_secret,\n",
    "    padding.OAEP(\n",
    "        mgf=padding.MGF1(algorithm=hashes.SHA256()),\n",
    "        algorithm=hashes.SHA256(),\n",
    "        label=None\n",
    "    )\n",
    ")\n",
    "print(\"\\nAlice's secret encrypted\")"
   ]
  },
  {
   "cell_type": "markdown",
   "metadata": {},
   "source": [
    "Bob receives the encrypted message. He has to decrypt the secret message by using his private key."
   ]
  },
  {
   "cell_type": "code",
   "execution_count": 46,
   "metadata": {},
   "outputs": [
    {
     "name": "stdout",
     "output_type": "stream",
     "text": [
      "Secrets match\n"
     ]
    }
   ],
   "source": [
    "Bob_decrypted_secret = private_key_Bob.decrypt(\n",
    "    Alice_encrypted_secret,\n",
    "    padding.OAEP(\n",
    "        mgf=padding.MGF1(algorithm=hashes.SHA256()),\n",
    "        algorithm=hashes.SHA256(),\n",
    "        label=None\n",
    "    )\n",
    ")\n",
    "\n",
    "#Chek if the decrypted secret matches the original secret\n",
    "\n",
    "assert Alice_long_secret == Bob_decrypted_secret, \"Secrets do not match!\"\n",
    "\n",
    "# if we get here they match, if not code stops above\n",
    "print(\"Secrets match\")"
   ]
  },
  {
   "cell_type": "markdown",
   "metadata": {},
   "source": [
    "The final step of a KEM is that both Alice and Bob have to apply an agreed upon Key Derivation Function (KDF) on the long secret to derive the symmetric key. \n",
    "\n",
    "This process involves a hashing protocol and the use of a random salt. This ensures uniqueness and unpredictability of the shared symmetric key in case the long secret is ever reused. However, the latter is obviously not recommended in real applications. Importantly, the salt itself does not have to be secret. In this example, the salt is randomly generated and then broadcast to bob alongside the encrypted long secret. "
   ]
  },
  {
   "cell_type": "code",
   "execution_count": 47,
   "metadata": {},
   "outputs": [
    {
     "name": "stdout",
     "output_type": "stream",
     "text": [
      "A symmetric key of length 256 bits was successfully derived by both Alice and Bob!\n"
     ]
    }
   ],
   "source": [
    "# Define a key derivation function using HKDF\n",
    "\n",
    "def key_derivation_function(secret, salt):\n",
    "    hkdf = HKDF(\n",
    "        algorithm=hashes.SHA256(),\n",
    "        length=32,  # Desired key length\n",
    "        salt=salt,\n",
    "        info=None,\n",
    "        backend=None\n",
    "    )\n",
    "    return hkdf.derive(secret)\n",
    "\n",
    "# Random salt accessible to both Alice and Bob, for proper seasoning of the secret!\n",
    "\n",
    "common_salt = urandom(16)  \n",
    "\n",
    "symmetric_key_Alice = key_derivation_function(Alice_long_secret, common_salt)\n",
    "symmetric_key_Bob = key_derivation_function(Bob_decrypted_secret, common_salt)\n",
    "\n",
    "assert symmetric_key_Alice == symmetric_key_Bob, \"Derived keys do not match!\"\n",
    "print(f\"A symmetric key of length {len(symmetric_key_Alice)*8} bits was successfully derived by both Alice and Bob!\")"
   ]
  },
  {
   "cell_type": "markdown",
   "metadata": {},
   "source": [
    "#### DIGITAL SIGNATURES WITH RSA\n",
    "\n",
    "We extend the above confidential communication scenario with Alice and Bob to include validation with the help of a digital signature.\n",
    "\n",
    "Alice will confidentially send a message encapsulating a symmetric key to Bob, but she will also digitally sign the message so that Bob, upon receiving the message, can verify that it was Alice who originated it and that the contents of the message were not tampered with during transmission.\n",
    "\n",
    "More generally, it is desirable to enable validation without compromising confidentiality whereby any interested party is able to verify the integrity, authenticity and establish non-repudiation with respect to a given communication, even if that party does not have access to the actual plain text message.\n",
    "\n",
    "We will consider this general setting which then involves the following steps:\n",
    "\n",
    "- First, both Bob and Alice make their public keys available over an open channel.\n",
    "\n",
    "- Then, Alice encrypts the plain text using Bob's public key, creating a ciphertext.\n",
    "\n",
    "- Next, Alice creates a hash of the ciphertext with a hash function and further encrypts the resulting hashed ciphertext using her private key. This encrypted hash is the signature.\n",
    "\n",
    "- Then, Alice then transmits both the ciphertext and the signature over an open channel.\n",
    "\n",
    "- Then, Bob uses Alice's public key to decrypt the signature, revealing the hashed ciphertext.\n",
    "\n",
    "- Next, since Bob also has access to the ciphertext itself, he uses the same hash function used by Alice to recreate a second instance of the hashed ciphertext. If the latter matches the one obtained by decrypting Alice's signature, then the message is validated, even though the ciphertext itself has not yet been decrypted.\n",
    "\n",
    "- Finally, Bob, having validated the message, decrypts the ciphertext using his own private key."
   ]
  },
  {
   "cell_type": "code",
   "execution_count": 52,
   "metadata": {},
   "outputs": [
    {
     "name": "stdout",
     "output_type": "stream",
     "text": [
      "Private and Public keys generated for Bob and Alice.\n",
      "\n",
      "ciphertext of symmetric key:  b'z/\\'\\xf3M\\xf7\\xb2\\x87\\xcb<\\\\\\x90D\\xfb\\xfa\\xba\\x7f\\xb2\\xa5\\xed1\\x8d\\x12\"\\xa5\\xb26=\\x9b\\xfb2\\x1d\\x86\\x07\\x91P\\x03Q\\xc9\\x1a\\xa4\\xb7fV\\xa7\\x1av\\x9c\\xd2Z(\\xf2\\x90\\x97\\x0b>J\\x86\\x04\\x89\\xc6\\xfc\\xb3`j#\\xa1\\n\\x94!\\x13\\xd7L \\x18\\xc1\\xf5AN\\xe4B\\xa2d,\\x11\\xeb\\xf5\\xc5g\\n\\xdd\\xa0r\\xf4&s!8\\x9d\\xfbt\\xd3\\xb0[t\\x9d\\x10\\x15\\x93\\xdd\\x9c\\xe0^b\\xc0\\xbbGk\\x81\\x83\\xa7\\xae\\xaeP\\x7f!\\xeb\\x9d\\xb9xgT:\\x14J\\x00\\xf0u\\x82\\xeb\\x19\\xaf\\xb5\\x1e{\\xea\\xc5\\xfa\\xa4\\xbd>\\xb3 9\\xc8{I\\xd7\\x87\\x8e\\x91e\\xe8\\xe2\\xfc+\\xdb\\x93\\x11s\\xcc\\x7f_\\xde\\xe6sDx\\x89\\x00\\x8f\\xb4*\\x152\\xfd#dK\\xa6.\\xd3$\\x8d\\xe0\\x8aY\\x92\\xe4\\x92\\xd4\\xd6(\\xac`\\xdd\\x88\\x98,\\xae\\xb2\\x11\\x08\\xad\\xec\\xebB\\xf6kq\\xafW\\x8ce\\xe3\\n\\xf4\\x98\\xcc\\xa1\\xc1\\x85\\xf6\\xc1\\x0b\\xa2\\xc1\\xdd\\xe2;\\xf28\\xcc\\xe5\\x9a\\xa2\\x9b4f\\xfe\\x18\\x9f\\xb7\\xdf\\xa2\\xfb'\n"
     ]
    }
   ],
   "source": [
    "from cryptography.hazmat.primitives import hashes, serialization\n",
    "from cryptography.hazmat.primitives.asymmetric import padding, rsa\n",
    "from cryptography.hazmat.primitives.asymmetric.utils import Prehashed\n",
    "\n",
    "# Generate keys for Bob\n",
    "\n",
    "bob_private_key = rsa.generate_private_key(public_exponent=65537, key_size=2048)\n",
    "bob_public_key = bob_private_key.public_key()\n",
    "\n",
    "# Generate keys for Alice\n",
    "\n",
    "alice_private_key = rsa.generate_private_key(public_exponent=65537, key_size=2048)\n",
    "alice_public_key = alice_private_key.public_key()\n",
    "\n",
    "print(\"Private and Public keys generated for Bob and Alice.\")\n",
    "\n",
    "# Alice encrypts the message using Bob's public key\n",
    "\n",
    "ciphertext = bob_public_key.encrypt(\n",
    "    a_symmetric_key,\n",
    "    padding.OAEP(\n",
    "        mgf=padding.MGF1(algorithm=hashes.SHA256()),\n",
    "        algorithm=hashes.SHA256(),\n",
    "        label=None\n",
    "    )\n",
    ")\n",
    "\n",
    "print(\"\\nciphertext of symmetric key: \",ciphertext)"
   ]
  },
  {
   "cell_type": "markdown",
   "metadata": {},
   "source": [
    "Until here, nothing new. We introduce now the intermediate step of attaching a digital signature before broadcasting the ciphertext. \n",
    "\n",
    "The digital signature will be done by creating a hash of the ciphertext and encrypting this has using Alice's private key. This is Alice's signature."
   ]
  },
  {
   "cell_type": "code",
   "execution_count": 53,
   "metadata": {},
   "outputs": [
    {
     "name": "stdout",
     "output_type": "stream",
     "text": [
      "signature:  b't\\x0b\\x138\\x1e\\x10T.qp\\xec\\x0b\\x08H\\x00\\xdd\\x8e\\x97\\xb3\\xba7\\x9dyf\\x01\\xa4A\\xaa\\xc1is\\'i{\\xbb\\\\\\xc6\\xe4\\x99\\xc8\\xae\\x02\\x0f\\x17?Z\\xc1\\x17\\xa6P|\\x9a]nr\\xddN\\xb4\\x90<\\xe1Q\\x8b\\xf8\\x91[O;\\x03%\\r{\\xb0\\xb5\\xb1w\\x00o_\\xc7JX\\x19fL4jl\\x8fg\\xa1s\\x12f\\x9a\\xcb\\xfd\\xc6&N\\x8d\\x11,l\\x15\\xd2u`M@\\xe6W\\xea\\x80\\x17\\x14\\x9e\\xf9\\xd2\\x04\\xc4l4\\x7fJt\\xf0s\\xec^^/Q{>\\x8ac\\x01\\xc6\\xed\\xc8E\\x9c\\xa4/\\x97\\n\\x99,1GE\\xc8F\\x9f\\xe7P*\\xebZ\\xe6lg\\xfd\\xf6\\xa0\\xf3\\x9e\\x93\\xf1\"\\xdfp-|$\\xcfd\\xf2LR\\xe0\\xa6\\xb2\\xcb\\xe6\\x8aB{\\x99\\x93\\x96s(S+\\xf1\\xa9E\\x14\\'\\x1fAo\\x01\\x1a\\xd4GW)/\\x91o\\xd0\\xe4\\xbb\\xe3\\xa9\\x94V\\t\\xb6\\x1f\\xc9\\x14\\x9eZ\\xe8][mr\\xf5\\xd2\\xd6@\\xf1\\xab\\xe6\\xe1\\t\\xd6\\xcdN{\\xee\\xfa\\xf69}\\x9a\\x19*\\xa4;0'\n"
     ]
    }
   ],
   "source": [
    "# Alice hases the ciphertext, i.e. obtains the digest of the ciphertext.\n",
    "\n",
    "digest = hashes.Hash(hashes.SHA256())\n",
    "digest.update(ciphertext)\n",
    "hash_to_sign = digest.finalize()\n",
    "\n",
    "# Alice signs the ciphertext using her private key\n",
    "\n",
    "signature = alice_private_key.sign(\n",
    "    hash_to_sign,\n",
    "    padding.PSS(\n",
    "        mgf=padding.MGF1(hashes.SHA256()),\n",
    "        salt_length=padding.PSS.MAX_LENGTH\n",
    "    ),\n",
    "    Prehashed(hashes.SHA256())\n",
    ")\n",
    "\n",
    "print(\"signature: \", signature)"
   ]
  },
  {
   "cell_type": "markdown",
   "metadata": {},
   "source": [
    "It is now when the ciphertext is broadcasted together with the digital signature. \n",
    "\n",
    "Bob's receive the message. He can now first verify the integrity and authenticity of the ciphertext. \n",
    "\n",
    "PD: Hasing algorithms must be the same!"
   ]
  },
  {
   "cell_type": "code",
   "execution_count": 54,
   "metadata": {},
   "outputs": [
    {
     "name": "stdout",
     "output_type": "stream",
     "text": [
      "Receiving ciphertext and signature .....\n",
      "\n",
      "hash to verify:  b'{\\xf8\\x07\\xd54\\x08\\x13qZm\\x10\\x9c\\x08\\x1a\\x97\\x7fmZ\\xf7\\xd3f\\x15\\xe4\\xb0Y\\x8b\\x1b\\xbfcV\\xeb\\xb9'\n",
      "The signature is valid.\n"
     ]
    }
   ],
   "source": [
    "# Bob receives the ciphertext and signature\n",
    "\n",
    "received_ciphertext = ciphertext\n",
    "received_signature = signature\n",
    "\n",
    "print(\"Receiving ciphertext and signature .....\")\n",
    "\n",
    "#Bob creates a hash of the ciphertext using the same algorithm used by Alice\n",
    "\n",
    "digest = hashes.Hash(hashes.SHA256())\n",
    "digest.update(received_ciphertext)\n",
    "hash_to_verify = digest.finalize()\n",
    "\n",
    "print(\"\\nhash to verify: \", hash_to_verify)\n",
    "\n",
    "# Bob verifies the signature using Alice's public key\n",
    "try:\n",
    "    alice_public_key.verify(\n",
    "        received_signature,\n",
    "        hash_to_verify,\n",
    "        padding.PSS(\n",
    "            mgf=padding.MGF1(hashes.SHA256()),\n",
    "            salt_length=padding.PSS.MAX_LENGTH\n",
    "        ),\n",
    "        Prehashed(hashes.SHA256())\n",
    "    )\n",
    "    print(\"The signature is valid.\")\n",
    "except:\n",
    "    print(\"The signature is not valid.\")"
   ]
  },
  {
   "cell_type": "markdown",
   "metadata": {},
   "source": [
    "Now that Bob has verified the integrity and authenticity of the received ciphertext, Bob can trust to decrypt the secret message using his private key. Recall that Alice has created the ciphertext using Bob's public key."
   ]
  },
  {
   "cell_type": "code",
   "execution_count": 57,
   "metadata": {},
   "outputs": [
    {
     "name": "stdout",
     "output_type": "stream",
     "text": [
      "Decrypted message: X01oYSsuaNocSSx0MuEymIwuc8P3y1KvtL97pP5ReoU=\n"
     ]
    }
   ],
   "source": [
    "# Bob decrypts the message using his private key\n",
    "\n",
    "decrypted_message = bob_private_key.decrypt(\n",
    "    received_ciphertext,\n",
    "    padding.OAEP(\n",
    "        mgf=padding.MGF1(algorithm=hashes.SHA256()),\n",
    "        algorithm=hashes.SHA256(),\n",
    "        label=None\n",
    "    )\n",
    ")\n",
    "\n",
    "print(\"Decrypted message:\", decrypted_message.decode())\n",
    "\n",
    "# Check if the decrypted message is the same as the original symmetric key (nothing happens if True)\n",
    "assert decrypted_message == a_symmetric_key"
   ]
  },
  {
   "cell_type": "markdown",
   "metadata": {},
   "source": [
    "In this scenario, any party can verify that Alice sent the ciphertext. Everyone has access to the Alice's public key, the ciphertext and the digital signature. In addtion, Alice cannot deny having sent the ciphertext later, because the signature can be decrypted to a meaningful has using only her public key (wich is only shared upon Alice actively communicating the ciphertext). This is the foundation of the 'non-repudiation' mechanism enclosed in Digital Signature Algorithms."
   ]
  },
  {
   "cell_type": "markdown",
   "metadata": {},
   "source": [
    "### Breaking RSA\n",
    "\n",
    "The utility and security of the RSA algorithm is essentially based on the prime factorization. This can be done classically by several algorithms, and also quantically by using the Shor's Algorithm (or any updated version of it). While we are not getting into theoretical details here, let us mention that even though the 2048-RSA algorithm is at present considered secure against classical systems attacks, meaning that any classical algorithm is good enough for factoring 2048-bits integers (i.e. of order $\\mathcal{O}(10^{617})$), this will not be the case when quantum computers available. \n",
    "\n",
    "Let us illustrate an example of finding a private key given only the public key. This will use brute-force classical computation, but shows how Shor's algorithm could be used - including large keys.\n",
    "\n",
    "In this example, supose we have a public key $(5, 247)$. We will attempt to recover the private key."
   ]
  },
  {
   "cell_type": "code",
   "execution_count": 58,
   "metadata": {},
   "outputs": [
    {
     "name": "stdout",
     "output_type": "stream",
     "text": [
      "Checked 247 and 6 are coprime\n"
     ]
    }
   ],
   "source": [
    "n = 247 # The modulus of the public key\n",
    "e = 5 # The public key number (exponent)\n",
    "a = 6 # The number coprime to n\n",
    "\n",
    "assert gcd(a, n) == 1, \"a and n are not coprime\"\n",
    "print(f'Checked {n} and {a} are coprime')\n",
    "\n",
    "# In this example, almost any number will work as the coprime."
   ]
  },
  {
   "cell_type": "code",
   "execution_count": 59,
   "metadata": {},
   "outputs": [
    {
     "name": "stdout",
     "output_type": "stream",
     "text": [
      "period r is: 36\n",
      "Checked 6^36 mod 247 is 1\n"
     ]
    }
   ],
   "source": [
    "# We try to find the period r such that a^r = 1 mod n. Here we do it classically.\n",
    "\n",
    "r=0\n",
    "rem = 100\n",
    "while(rem != 1):\n",
    "    r += 1\n",
    "    rem = (a**r) % n\n",
    "    \n",
    "print(f'period r is: {r}')\n",
    "assert a**r % n == 1\n",
    "\n",
    "print(f\"Checked {a}^{r} mod {n} is 1\")\n"
   ]
  },
  {
   "cell_type": "code",
   "execution_count": 60,
   "metadata": {},
   "outputs": [
    {
     "name": "stdout",
     "output_type": "stream",
     "text": [
      "f1 = 101559956668415\n",
      "f2 = 101559956668417\n"
     ]
    }
   ],
   "source": [
    "# The period r is even. Hence, we compute the following numbers\n",
    "\n",
    "# explicitly use as integer\n",
    "f1 = int ( a**(r/2) - 1)\n",
    "f2 = int ( a**(r/2) + 1)\n",
    "\n",
    "print(f\"f1 = {f1}\")\n",
    "print(f\"f2 = {f2}\")"
   ]
  },
  {
   "cell_type": "code",
   "execution_count": 61,
   "metadata": {},
   "outputs": [
    {
     "name": "stdout",
     "output_type": "stream",
     "text": [
      "One possible prime factor of n (247) is: 19\n",
      "The second prime factor of n (247) is: 13\n"
     ]
    }
   ],
   "source": [
    "# Now we find the GCD of either of those f1 or f2 with n. \n",
    "\n",
    "q_found = gcd(f1, n)\n",
    "print(f'One possible prime factor of n ({n}) is: {q_found}')\n",
    "\n",
    "# explicit int (to avoid floating point)\n",
    "p_found = int ( n/q_found )\n",
    "print(f'The second prime factor of n ({n}) is: {p_found}')\n",
    "\n",
    "assert n == p_found * q_found\n"
   ]
  },
  {
   "cell_type": "code",
   "execution_count": 62,
   "metadata": {},
   "outputs": [
    {
     "name": "stdout",
     "output_type": "stream",
     "text": [
      "The totient is: 216\n",
      "Private Key number: 173\n"
     ]
    }
   ],
   "source": [
    "# We compute the totient of the found q and p factors\n",
    "\n",
    "phi_found = ( p_found -1 ) * ( q_found - 1 ) \n",
    "print(f'The totient is: {phi_found}')\n",
    "\n",
    "#Recover the private key number d_found by satisfying (d_found * e) % phi_found = 1\n",
    "\n",
    "d_found = 1\n",
    "while(True):\n",
    "    if((d_found*e) % phi_found == 1):\n",
    "        break\n",
    "    else:\n",
    "        d_found += 1\n",
    "print(\"Private Key number:\",d_found)\n"
   ]
  },
  {
   "cell_type": "markdown",
   "metadata": {},
   "source": [
    "In the above scheme, the crucial step is the second one: the period-finding operation. For this operation, the Shor's algorithm uses two fundamental quantum primitives, i.e. the quantum fourier transform and quantum phase estimation. "
   ]
  },
  {
   "cell_type": "code",
   "execution_count": null,
   "metadata": {},
   "outputs": [],
   "source": []
  }
 ],
 "metadata": {
  "kernelspec": {
   "display_name": "qcomp",
   "language": "python",
   "name": "python3"
  },
  "language_info": {
   "codemirror_mode": {
    "name": "ipython",
    "version": 3
   },
   "file_extension": ".py",
   "mimetype": "text/x-python",
   "name": "python",
   "nbconvert_exporter": "python",
   "pygments_lexer": "ipython3",
   "version": "3.12.4"
  }
 },
 "nbformat": 4,
 "nbformat_minor": 2
}
