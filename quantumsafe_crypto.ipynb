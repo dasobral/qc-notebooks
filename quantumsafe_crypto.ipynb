{
 "cells": [
  {
   "cell_type": "markdown",
   "metadata": {},
   "source": [
    "# Introduction to Quantum Safe Cryptography"
   ]
  },
  {
   "cell_type": "markdown",
   "metadata": {},
   "source": [
    "This notebook serves as a compilation of the hands-on examples provided in the 'Introduction to Quantum Safe Cryptography' provided by IBM.\n",
    "\n",
    "Requirements:\n",
    "\n",
    "-   'cryptography' library "
   ]
  },
  {
   "cell_type": "markdown",
   "metadata": {},
   "source": [
    "## CHFs: Cryptographic HASH FUNCTIONS"
   ]
  },
  {
   "cell_type": "markdown",
   "metadata": {},
   "source": [
    "### The SHA-256 algorithm\n",
    "\n",
    "Let us demonstrate cryptographic hashing my making use of the well-known SHA-256 algorithm, widely used in modern technologies such as the Blockchain (cryptocurrencies), digital signatures and certificates.\n",
    "\n",
    "A good hash function will produce digests with large differences even for input strings with small variations."
   ]
  },
  {
   "cell_type": "code",
   "execution_count": 1,
   "metadata": {},
   "outputs": [],
   "source": [
    "# Begin by importing the necessary modules\n",
    "\n",
    "from cryptography.hazmat.backends import default_backend\n",
    "from cryptography.hazmat.primitives import hashes"
   ]
  },
  {
   "cell_type": "markdown",
   "metadata": {},
   "source": [
    "We generate now two very similar messages which we will feed to the hash function to compare the outputs. "
   ]
  },
  {
   "cell_type": "code",
   "execution_count": 2,
   "metadata": {},
   "outputs": [
    {
     "name": "stdout",
     "output_type": "stream",
     "text": [
      "The two messages differ by 1 characters\n"
     ]
    }
   ],
   "source": [
    "#Helper function that returns the number of characters different in two strings\n",
    "\n",
    "def char_diff(str1, str2):\n",
    "    return sum ( str1[i] != str2[i] for i in range(len(str1)) )\n",
    "\n",
    "# Messages to be hashed\n",
    "\n",
    "message_1 = b\"Buy 10000 shares of WXYZ stock now!\"\n",
    "message_2 = b\"Buy 10000 shares of VXYZ stock now!\"\n",
    "\n",
    "print(f\"The two messages differ by { char_diff(message_1, message_2)} characters\")"
   ]
  },
  {
   "cell_type": "markdown",
   "metadata": {},
   "source": [
    "We now have to instantiate a hash object and update it with the message to be hashed. We then finalize the hash and print the digest. This involves the calls to three methods."
   ]
  },
  {
   "cell_type": "code",
   "execution_count": 3,
   "metadata": {},
   "outputs": [],
   "source": [
    "# Create new SHA-256 hash objects, one for each message\n",
    "\n",
    "chf_1 = hashes.Hash(hashes.SHA256(), backend=default_backend())\n",
    "chf_2 = hashes.Hash(hashes.SHA256(), backend=default_backend())\n",
    "\n",
    "# Update each hash object with the bytes of the corresponding message\n",
    "\n",
    "chf_1.update(message_1)\n",
    "chf_2.update(message_2)\n",
    "\n",
    "# Finalize the hash process and obtain the digests\n",
    "\n",
    "digest_1 = chf_1.finalize()\n",
    "digest_2 = chf_2.finalize()"
   ]
  },
  {
   "cell_type": "code",
   "execution_count": 4,
   "metadata": {},
   "outputs": [
    {
     "data": {
      "text/plain": [
       "b'n\\x0eba\\xb7\\x13\\x1b\\xd8\\x0f\\xfd\\xb2\\xa4\\xd4/\\x9d\\x04&65\\x0eE\\xe1\\x84\\xb9/\\xcb\\xcc\\x96F\\xea\\xf1\\xe7'"
      ]
     },
     "execution_count": 4,
     "metadata": {},
     "output_type": "execute_result"
    }
   ],
   "source": [
    "digest_1"
   ]
  },
  {
   "cell_type": "markdown",
   "metadata": {},
   "source": [
    "We need to convert the digests to some more readable (or printeable) format, e.g. hexadecimal strings."
   ]
  },
  {
   "cell_type": "code",
   "execution_count": 5,
   "metadata": {},
   "outputs": [
    {
     "name": "stdout",
     "output_type": "stream",
     "text": [
      "digest-1: 6e0e6261b7131bd80ffdb2a4d42f9d042636350e45e184b92fcbcc9646eaf1e7\n",
      "digest-2: 6b0abb368c3a1730f935b68105e3f3ae7fd43d7e786d3ed3503dbb45c74ada46\n",
      "The two digests differ by 57 characters\n"
     ]
    }
   ],
   "source": [
    "#Convert the resulting hash to hexadecimal strings for convenient printing\n",
    "\n",
    "digest_1_str = digest_1.hex()\n",
    "digest_2_str = digest_2.hex()\n",
    "\n",
    "#Print out the digests as strings \n",
    "\n",
    "print(f\"digest-1: {digest_1_str}\")\n",
    "print(f\"digest-2: {digest_2_str}\")\n",
    "\n",
    "print(f\"The two digests differ by { char_diff(digest_1_str, digest_2_str)} characters\")"
   ]
  },
  {
   "cell_type": "markdown",
   "metadata": {},
   "source": [
    "This shows the 'avalanche effect' in the SHA-256 algorithm. We started with two strings difering only in one character. The digests then differ by 57 characters!"
   ]
  },
  {
   "cell_type": "markdown",
   "metadata": {},
   "source": [
    "## SYMMETRIC KEY CRYPTOGRAPHY (SKC)"
   ]
  },
  {
   "cell_type": "markdown",
   "metadata": {},
   "source": [
    "### Illustration of Symmetric Key Encryption (SKE)\n",
    "\n",
    "We illustrate the implementation of the encrypt and decrypt operations using the classical cipher Caesar and the more modern Advanced Encryption System  (AES). The latter has been the standard for symmetric key encryption since 2001."
   ]
  },
  {
   "cell_type": "code",
   "execution_count": 6,
   "metadata": {},
   "outputs": [],
   "source": [
    "# import the required crypto functions which will be demonstrated later\n",
    "from secretpy import Caesar\n",
    "\n",
    "from cryptography.hazmat.primitives.ciphers import Cipher, algorithms, modes\n",
    "from functools import reduce\n",
    "import numpy as np"
   ]
  },
  {
   "cell_type": "code",
   "execution_count": 7,
   "metadata": {},
   "outputs": [
    {
     "name": "stdout",
     "output_type": "stream",
     "text": [
      "\n",
      "Given plaintext: nobody can see this message. in particular, not my wife.\n"
     ]
    }
   ],
   "source": [
    "# We now write down a message for encryption\n",
    "\n",
    "plaintext=u\"nobody can see this message. in particular, not my wife.\"\n",
    "\n",
    "print(f\"\\nGiven plaintext: {plaintext}\")"
   ]
  },
  {
   "cell_type": "markdown",
   "metadata": {},
   "source": [
    "#### Caesar shift cipher:\n",
    "\n",
    "Caesar shift encryption involves defining\n",
    "\n",
    " - An alphabet of possible characters to encode\n",
    " - A shift value which can be between 0 (unencrypted) and the length of the alphabet. We consider this the key.\n",
    "\n",
    "It is known as a monoalphabetic substitution cipher since each letter of the plain text is substituted with another in the ciphertext."
   ]
  },
  {
   "cell_type": "code",
   "execution_count": 8,
   "metadata": {},
   "outputs": [
    {
     "name": "stdout",
     "output_type": "stream",
     "text": [
      "Caesar shift secret key: 5\n",
      "alphabet: ('a', 'b', 'c', 'd', 'e', 'f', 'g', 'h', 'i', 'j', 'k', 'l', 'm', 'n', 'o', 'p', 'q', 'r', 's', 't', 'u', 'v', 'w', 'x', 'y', 'z', ' ', '.', ',')\n"
     ]
    }
   ],
   "source": [
    "# initialize the required python object for doing Caesar shift encryption\n",
    "caesar_cipher = Caesar()\n",
    "\n",
    "# Define the shift, ie the key\n",
    "caesar_key = 5 \n",
    "print(f\"Caesar shift secret key: {caesar_key}\")\n",
    "\n",
    "# Define the alphabet. Note that symbols, special characters and Capital letters must be included in the alphabet.\n",
    "\n",
    "alphabet=('a', 'b', 'c', 'd', 'e', 'f', 'g', 'h', 'i', 'j', 'k', 'l', 'm', 'n', 'o', 'p', 'q', 'r', 's', 't', 'u', 'v', 'w', 'x', 'y', 'z', ' ', '.', ',')\n",
    "print(f\"alphabet: {alphabet}\")"
   ]
  },
  {
   "cell_type": "markdown",
   "metadata": {},
   "source": [
    "Let's encrypt and check the ciphertext"
   ]
  },
  {
   "cell_type": "code",
   "execution_count": 9,
   "metadata": {},
   "outputs": [
    {
     "name": "stdout",
     "output_type": "stream",
     "text": [
      "Encrypted caeser shift ciphertext: stgtiachfscxjjcymnxcrjxxfljdcnscufwynhzqfwecstycrac.nkjd\n"
     ]
    }
   ],
   "source": [
    "caeser_ciphertext = caesar_cipher.encrypt(plaintext, caesar_key, alphabet)\n",
    "print(f\"Encrypted caeser shift ciphertext: {caeser_ciphertext}\")"
   ]
  },
  {
   "cell_type": "markdown",
   "metadata": {},
   "source": [
    "Nice! Now, we can decrypt the message. We have to use the same key."
   ]
  },
  {
   "cell_type": "code",
   "execution_count": 10,
   "metadata": {},
   "outputs": [
    {
     "name": "stdout",
     "output_type": "stream",
     "text": [
      "Decrypted caeser shift plaintext: nobody can see this message. in particular, not my wife.\n",
      "\n"
     ]
    }
   ],
   "source": [
    "caeser_plaintext = caesar_cipher.decrypt(caeser_ciphertext, caesar_key, alphabet)\n",
    "print(f\"Decrypted caeser shift plaintext: {caeser_plaintext}\\n\")"
   ]
  },
  {
   "cell_type": "markdown",
   "metadata": {},
   "source": [
    "Decryption fails if using a different key (shift value)"
   ]
  },
  {
   "cell_type": "code",
   "execution_count": 11,
   "metadata": {},
   "outputs": [
    {
     "name": "stdout",
     "output_type": "stream",
     "text": [
      "Decrypted caeser shift plaintext: ijzj.tv yivn,,vocdnvh,nnyb,wvdivkymod pgymxvijovhtvrda,w\n",
      "\n"
     ]
    }
   ],
   "source": [
    "caesar_key_2 = 10\n",
    "\n",
    "caeser_plaintext = caesar_cipher.decrypt(caeser_ciphertext, caesar_key_2, alphabet)\n",
    "print(f\"Decrypted caeser shift plaintext: {caeser_plaintext}\\n\")"
   ]
  },
  {
   "cell_type": "markdown",
   "metadata": {},
   "source": [
    "#### Advanced encryption standard (AES) cipher\n",
    "\n",
    "We now encrypt the plain text using AES, a popular symmetric key encryption algorithm.\n",
    "\n",
    "We start by creating the key, in this case, a random 16-letter string."
   ]
  },
  {
   "cell_type": "code",
   "execution_count": 12,
   "metadata": {},
   "outputs": [
    {
     "name": "stdout",
     "output_type": "stream",
     "text": [
      "AES secret key: r yeoqkydifpmobd\n"
     ]
    }
   ],
   "source": [
    "# lamba defines an inline function in this case that takes two values a,b with the resulting expression of a+b\n",
    "# reduce uses a two-argument function(above), and applies this to all the entries in the list (random alphabet characters) cumulatively\n",
    "\n",
    "alphabet=('a', 'b', 'c', 'd', 'e', 'f', 'g', 'h', 'i', 'j', 'k', 'l', 'm', 'n', 'o', 'p', 'q', 'r', 's', 't', 'u', 'v', 'w', 'x', 'y', 'z', ' ')\n",
    "\n",
    "aes_key = reduce(lambda a, b: a + b, [np.random.choice(alphabet) for i in range(16)])\n",
    "\n",
    "print(f'AES secret key: {aes_key}')"
   ]
  },
  {
   "cell_type": "markdown",
   "metadata": {},
   "source": [
    "AES supports multiple operating modes and requires we specify which to use.\n",
    "\n",
    "We choose the Cipher Block Chaining (CBC) mode provided by the\n",
    "class of the library. The CBC mode of AES uses randomness for additional security. This requires specifying a random Initialization Vector (IV), also called a . We will use a random string for this as well, just like we did for the key."
   ]
  },
  {
   "cell_type": "code",
   "execution_count": 13,
   "metadata": {},
   "outputs": [
    {
     "name": "stdout",
     "output_type": "stream",
     "text": [
      "AES initialization vector: gkyp xbhg xhdcoe\n"
     ]
    }
   ],
   "source": [
    "aes_initialization_vector = reduce(lambda a, b: a + b, [np.random.choice(alphabet) for i in range(16)])\n",
    "print(f\"AES initialization vector: {aes_initialization_vector}\")"
   ]
  },
  {
   "cell_type": "markdown",
   "metadata": {},
   "source": [
    "We can now instantiate an AES cipher on behalf of the sender of the secret message.  \n",
    "\n",
    "We will then encrypt the plain text to send."
   ]
  },
  {
   "cell_type": "code",
   "execution_count": 14,
   "metadata": {},
   "outputs": [
    {
     "ename": "ValueError",
     "evalue": "The length of the provided data is not a multiple of the block length.",
     "output_type": "error",
     "traceback": [
      "\u001b[0;31m---------------------------------------------------------------------------\u001b[0m",
      "\u001b[0;31mValueError\u001b[0m                                Traceback (most recent call last)",
      "Cell \u001b[0;32mIn[14], line 10\u001b[0m\n\u001b[1;32m      6\u001b[0m plaintext\u001b[38;5;241m=\u001b[39m\u001b[38;5;124mu\u001b[39m\u001b[38;5;124m\"\u001b[39m\u001b[38;5;124mnobody can see this message now or never\u001b[39m\u001b[38;5;124m\"\u001b[39m\n\u001b[1;32m      8\u001b[0m \u001b[38;5;66;03m# update can add text to encypt in chunks, and then finalize is needed to complete the encryption process\u001b[39;00m\n\u001b[0;32m---> 10\u001b[0m aes_ciphertext \u001b[38;5;241m=\u001b[39m aes_encryptor\u001b[38;5;241m.\u001b[39mupdate(\u001b[38;5;28mbytes\u001b[39m(plaintext, \u001b[38;5;124m'\u001b[39m\u001b[38;5;124mutf-8\u001b[39m\u001b[38;5;124m'\u001b[39m)) \u001b[38;5;241m+\u001b[39m \u001b[43maes_encryptor\u001b[49m\u001b[38;5;241;43m.\u001b[39;49m\u001b[43mfinalize\u001b[49m\u001b[43m(\u001b[49m\u001b[43m)\u001b[49m\n\u001b[1;32m     12\u001b[0m \u001b[38;5;66;03m# Note the output is a string of bytes\u001b[39;00m\n\u001b[1;32m     14\u001b[0m \u001b[38;5;28mprint\u001b[39m(\u001b[38;5;124mf\u001b[39m\u001b[38;5;124m\"\u001b[39m\u001b[38;5;124mEncrypted AES ciphertext: \u001b[39m\u001b[38;5;132;01m{\u001b[39;00maes_ciphertext\u001b[38;5;132;01m}\u001b[39;00m\u001b[38;5;124m\"\u001b[39m)\n",
      "\u001b[0;31mValueError\u001b[0m: The length of the provided data is not a multiple of the block length."
     ]
    }
   ],
   "source": [
    "# The encryptor is setup using the key & CBC. In both cases we need to convert the string (utf-8) into bytes\n",
    "\n",
    "sender_aes_cipher = Cipher(algorithms.AES(bytes(aes_key, 'utf-8')), modes.CBC(bytes(aes_initialization_vector, 'utf-8')))\n",
    "aes_encryptor = sender_aes_cipher.encryptor()\n",
    "\n",
    "plaintext=u\"nobody can see this message now or never\"\n",
    "\n",
    "# update can add text to encypt in chunks, and then finalize is needed to complete the encryption process\n",
    "\n",
    "aes_ciphertext = aes_encryptor.update(bytes(plaintext, 'utf-8')) + aes_encryptor.finalize()\n",
    "\n",
    "# Note the output is a string of bytes\n",
    "\n",
    "print(f\"Encrypted AES ciphertext: {aes_ciphertext}\")"
   ]
  },
  {
   "cell_type": "markdown",
   "metadata": {},
   "source": [
    "Oh, an error. Let's check the length of the plaintext."
   ]
  },
  {
   "cell_type": "code",
   "execution_count": 15,
   "metadata": {},
   "outputs": [
    {
     "name": "stdout",
     "output_type": "stream",
     "text": [
      "\n",
      "Given plaintext: nobody can see this message now or never\n",
      "Plaintext length: 40 bytes\n",
      "Plaintext length is a multiple of the block lenght (16 bytes).\n"
     ]
    }
   ],
   "source": [
    "# Convierte el texto plano a bytes\n",
    "plaintext_bytes = bytes(plaintext, 'utf-8')\n",
    "\n",
    "print(f\"\\nGiven plaintext: {plaintext}\")\n",
    "\n",
    "# Imprime la longitud del texto plano en bytes\n",
    "print(f\"Plaintext length: {len(plaintext_bytes)} bytes\")\n",
    "\n",
    "# Comprueba si la longitud es múltiplo de 16\n",
    "if len(plaintext_bytes) % 16 == 0:\n",
    "    print(\"Plaintext length is a multiple of the block lenght (16 bytes).\")\n",
    "else:\n",
    "    print(\"Plaintext length is a multiple of the block lenght (16 bytes).\")\n"
   ]
  },
  {
   "cell_type": "code",
   "execution_count": 16,
   "metadata": {},
   "outputs": [
    {
     "name": "stdout",
     "output_type": "stream",
     "text": [
      "Número de caracteres ASCII: 40\n"
     ]
    }
   ],
   "source": [
    "# Contar el número de caracteres ASCII\n",
    "ascii_count = sum(1 for char in plaintext if ord(char) < 128)\n",
    "\n",
    "# Imprimir el número de caracteres ASCII\n",
    "print(f\"Número de caracteres ASCII: {ascii_count}\")"
   ]
  },
  {
   "cell_type": "markdown",
   "metadata": {},
   "source": [
    "We can simply generate a more suitable message, with number of ASCII characters (or byte length) proportional to 16. We can also circumvent this issue by automatic padding of the original message."
   ]
  },
  {
   "cell_type": "code",
   "execution_count": 17,
   "metadata": {},
   "outputs": [
    {
     "name": "stdout",
     "output_type": "stream",
     "text": [
      "Encrypted AES ciphertext: b\"\\x1aV\\x84\\x1a\\xb1\\x15Z\\xa4\\x8d4\\xf4Y\\xa1\\xe6'\\xd6\\x9c)#kW\\xc1\\x01\\xe8e\\xc6\\xc2\\x0e\\xff\\xbdQ\\x8e\\x82{g\\x9c\\xa6\\xa2\\xb4`\\xbf\\x84$h\\xb7\\xac\\xe0\\xbf\"\n"
     ]
    }
   ],
   "source": [
    "# The encryptor is setup using the key & CBC. In both cases we need to convert the string (utf-8) into bytes\n",
    "\n",
    "sender_aes_cipher = Cipher(algorithms.AES(bytes(aes_key, 'utf-8')), modes.CBC(bytes(aes_initialization_vector, 'utf-8')))\n",
    "aes_encryptor = sender_aes_cipher.encryptor()\n",
    "\n",
    "# New message with proper number of ASCII characters\n",
    "\n",
    "plaintext_=u\"no one except my dude can never see this message\"\n",
    "\n",
    "# update can add text to encypt in chunks, and then finalize is needed to complete the encryption process\n",
    "\n",
    "aes_ciphertext_ = aes_encryptor.update(bytes(plaintext_, 'utf-8')) + aes_encryptor.finalize()\n",
    "\n",
    "# Note the output is a string of bytes\n",
    "\n",
    "print(f\"Encrypted AES ciphertext: {aes_ciphertext_}\")"
   ]
  },
  {
   "cell_type": "code",
   "execution_count": 18,
   "metadata": {},
   "outputs": [
    {
     "name": "stdout",
     "output_type": "stream",
     "text": [
      "Encrypted AES ciphertext: b'`\\x8e\\xab\\x93\\xb1\\x96n\\\\\\xffkD;w\\x8a)\\xb0\\xe3\\xc5\\xab2\\x0c\\x97o\\x94yyx\\xf2$A\\x93\\x85\\xf2\\xf9\\xffL\\x85<\\xa3\\x1e\\x15\\xebLxx\\x00\\xb7\\xaa'\n"
     ]
    }
   ],
   "source": [
    "# We implement padding to make the message length a multiple of 16 bytes\n",
    "\n",
    "from cryptography.hazmat.primitives import padding\n",
    "\n",
    "sender_aes_cipher = Cipher(algorithms.AES(bytes(aes_key, 'utf-8')), modes.CBC(bytes(aes_initialization_vector, 'utf-8')))\n",
    "aes_encryptor = sender_aes_cipher.encryptor()\n",
    "\n",
    "# Tamaño del bloque de AES es 128 bits (16 bytes)\n",
    "block_size = 128\n",
    "\n",
    "# Crea un objeto padder para agregar el relleno PKCS7\n",
    "padder = padding.PKCS7(block_size).padder()\n",
    "\n",
    "# Aplica el padding al texto plano\n",
    "padded_plaintext = padder.update(bytes(plaintext, 'utf-8')) + padder.finalize()\n",
    "\n",
    "# Encripta el texto con padding\n",
    "aes_ciphertext = aes_encryptor.update(padded_plaintext) + aes_encryptor.finalize()\n",
    "\n",
    "# Nota que el resultado sigue siendo un string de bytes\n",
    "print(f\"Encrypted AES ciphertext: {aes_ciphertext}\")"
   ]
  },
  {
   "cell_type": "markdown",
   "metadata": {},
   "source": [
    "We now show how to decypher the message. Let us try first with the simpler scenario, with a message properly defined to have the adequate bytes length. The logic is similar to the encryption steps."
   ]
  },
  {
   "cell_type": "code",
   "execution_count": 20,
   "metadata": {},
   "outputs": [
    {
     "name": "stdout",
     "output_type": "stream",
     "text": [
      "Decrypted AES plaintext: no one except my dude can never see this message\n"
     ]
    }
   ],
   "source": [
    "# Similar setup of AES to what we did for encryption, but this time, for decryption\n",
    "receiver_aes_cipher = Cipher(algorithms.AES(bytes(aes_key, 'utf-8')), modes.CBC(bytes(aes_initialization_vector, 'utf-8')))\n",
    "aes_decryptor = receiver_aes_cipher.decryptor()\n",
    "\n",
    "# Do the decryption\n",
    "aes_plaintext_bytes = aes_decryptor.update(aes_ciphertext_) + aes_decryptor.finalize()\n",
    "\n",
    "# convert back to a character string (we assume utf-8)\n",
    "aes_plaintext_ = aes_plaintext_bytes.decode('utf-8')\n",
    "\n",
    "print(f\"Decrypted AES plaintext: {aes_plaintext_}\")"
   ]
  },
  {
   "cell_type": "markdown",
   "metadata": {},
   "source": [
    "Note that if you try to decrypt the padded message, the plaintext will be likely wrong. "
   ]
  },
  {
   "cell_type": "code",
   "execution_count": 21,
   "metadata": {},
   "outputs": [
    {
     "name": "stdout",
     "output_type": "stream",
     "text": [
      "Decrypted AES plaintext: nobody can see this message now or nev\n"
     ]
    }
   ],
   "source": [
    "# Similar setup of AES to what we did for encryption, but this time, for decryption\n",
    "receiver_aes_cipher = Cipher(algorithms.AES(bytes(aes_key, 'utf-8')), modes.CBC(bytes(aes_initialization_vector, 'utf-8')))\n",
    "aes_decryptor = receiver_aes_cipher.decryptor()\n",
    "\n",
    "# Do the decryption\n",
    "aes_plaintext_bytes = aes_decryptor.update(aes_ciphertext) + aes_decryptor.finalize()\n",
    "\n",
    "# convert back to a character string (we assume utf-8)\n",
    "aes_plaintext = aes_plaintext_bytes.decode('utf-8')\n",
    "\n",
    "print(f\"Decrypted AES plaintext: {aes_plaintext}\")"
   ]
  },
  {
   "cell_type": "markdown",
   "metadata": {},
   "source": [
    "We need to remove the padding!"
   ]
  },
  {
   "cell_type": "code",
   "execution_count": 23,
   "metadata": {},
   "outputs": [
    {
     "name": "stdout",
     "output_type": "stream",
     "text": [
      "Decrypted message: nobody can see this message now or never\n"
     ]
    }
   ],
   "source": [
    "# Create the Cipher object for decryption\n",
    "cipher = Cipher(algorithms.AES(bytes(aes_key, 'utf-8')), modes.CBC(bytes(aes_initialization_vector, 'utf-8')))\n",
    "aes_decryptor = cipher.decryptor()\n",
    "\n",
    "# Decrypt the ciphertext\n",
    "decrypted_padded_plaintext = aes_decryptor.update(aes_ciphertext) + aes_decryptor.finalize()\n",
    "\n",
    "# Remove padding\n",
    "unpadder = padding.PKCS7(algorithms.AES.block_size).unpadder()\n",
    "unpadded_plaintext = unpadder.update(decrypted_padded_plaintext) + unpadder.finalize()\n",
    "\n",
    "# Convert bytes back to a string\n",
    "decrypted_message = unpadded_plaintext.decode('utf-8')\n",
    "\n",
    "# Print the decrypted message\n",
    "print(f\"Decrypted message: {decrypted_message}\")"
   ]
  },
  {
   "cell_type": "code",
   "execution_count": null,
   "metadata": {},
   "outputs": [],
   "source": []
  }
 ],
 "metadata": {
  "kernelspec": {
   "display_name": "qcomp",
   "language": "python",
   "name": "python3"
  },
  "language_info": {
   "codemirror_mode": {
    "name": "ipython",
    "version": 3
   },
   "file_extension": ".py",
   "mimetype": "text/x-python",
   "name": "python",
   "nbconvert_exporter": "python",
   "pygments_lexer": "ipython3",
   "version": "3.12.4"
  }
 },
 "nbformat": 4,
 "nbformat_minor": 2
}
