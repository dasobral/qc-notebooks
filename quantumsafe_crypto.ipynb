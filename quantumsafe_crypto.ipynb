{
 "cells": [
  {
   "cell_type": "markdown",
   "metadata": {},
   "source": [
    "# Introduction to Quantum Safe Cryptography"
   ]
  },
  {
   "cell_type": "markdown",
   "metadata": {},
   "source": [
    "This notebook serves as a compilation of the hands-on examples provided in the 'Introduction to Quantum Safe Cryptography' provided by IBM.\n",
    "\n",
    "Requirements:\n",
    "\n",
    "-   'cryptography' library "
   ]
  },
  {
   "cell_type": "markdown",
   "metadata": {},
   "source": [
    "## CHFs: Cryptographic HASH FUNCTIONS"
   ]
  },
  {
   "cell_type": "markdown",
   "metadata": {},
   "source": [
    "### The SHA-256 algorithm\n",
    "\n",
    "Let us demonstrate cryptographic hashing my making use of the well-known SHA-256 algorithm, widely used in modern technologies such as the Blockchain (cryptocurrencies), digital signatures and certificates.\n",
    "\n",
    "A good hash function will produce digests with large differences even for input strings with small variations."
   ]
  },
  {
   "cell_type": "code",
   "execution_count": 1,
   "metadata": {},
   "outputs": [],
   "source": [
    "# Begin by importing the necessary modules\n",
    "\n",
    "from cryptography.hazmat.backends import default_backend\n",
    "from cryptography.hazmat.primitives import hashes"
   ]
  },
  {
   "cell_type": "markdown",
   "metadata": {},
   "source": [
    "We generate now two very similar messages which we will feed to the hash function to compare the outputs. "
   ]
  },
  {
   "cell_type": "code",
   "execution_count": 2,
   "metadata": {},
   "outputs": [
    {
     "name": "stdout",
     "output_type": "stream",
     "text": [
      "The two messages differ by 1 characters\n"
     ]
    }
   ],
   "source": [
    "#Helper function that returns the number of characters different in two strings\n",
    "\n",
    "def char_diff(str1, str2):\n",
    "    return sum ( str1[i] != str2[i] for i in range(len(str1)) )\n",
    "\n",
    "# Messages to be hashed\n",
    "\n",
    "message_1 = b\"Buy 10000 shares of WXYZ stock now!\"\n",
    "message_2 = b\"Buy 10000 shares of VXYZ stock now!\"\n",
    "\n",
    "print(f\"The two messages differ by { char_diff(message_1, message_2)} characters\")"
   ]
  },
  {
   "cell_type": "markdown",
   "metadata": {},
   "source": [
    "We now have to instantiate a hash object and update it with the message to be hashed. We then finalize the hash and print the digest. This involves the calls to three methods."
   ]
  },
  {
   "cell_type": "code",
   "execution_count": 3,
   "metadata": {},
   "outputs": [],
   "source": [
    "# Create new SHA-256 hash objects, one for each message\n",
    "\n",
    "chf_1 = hashes.Hash(hashes.SHA256(), backend=default_backend())\n",
    "chf_2 = hashes.Hash(hashes.SHA256(), backend=default_backend())\n",
    "\n",
    "# Update each hash object with the bytes of the corresponding message\n",
    "\n",
    "chf_1.update(message_1)\n",
    "chf_2.update(message_2)\n",
    "\n",
    "# Finalize the hash process and obtain the digests\n",
    "\n",
    "digest_1 = chf_1.finalize()\n",
    "digest_2 = chf_2.finalize()"
   ]
  },
  {
   "cell_type": "code",
   "execution_count": 4,
   "metadata": {},
   "outputs": [
    {
     "data": {
      "text/plain": [
       "b'n\\x0eba\\xb7\\x13\\x1b\\xd8\\x0f\\xfd\\xb2\\xa4\\xd4/\\x9d\\x04&65\\x0eE\\xe1\\x84\\xb9/\\xcb\\xcc\\x96F\\xea\\xf1\\xe7'"
      ]
     },
     "execution_count": 4,
     "metadata": {},
     "output_type": "execute_result"
    }
   ],
   "source": [
    "digest_1"
   ]
  },
  {
   "cell_type": "markdown",
   "metadata": {},
   "source": [
    "We need to convert the digests to some more readable (or printeable) format, e.g. hexadecimal strings."
   ]
  },
  {
   "cell_type": "code",
   "execution_count": 5,
   "metadata": {},
   "outputs": [
    {
     "name": "stdout",
     "output_type": "stream",
     "text": [
      "digest-1: 6e0e6261b7131bd80ffdb2a4d42f9d042636350e45e184b92fcbcc9646eaf1e7\n",
      "digest-2: 6b0abb368c3a1730f935b68105e3f3ae7fd43d7e786d3ed3503dbb45c74ada46\n",
      "The two digests differ by 57 characters\n"
     ]
    }
   ],
   "source": [
    "#Convert the resulting hash to hexadecimal strings for convenient printing\n",
    "\n",
    "digest_1_str = digest_1.hex()\n",
    "digest_2_str = digest_2.hex()\n",
    "\n",
    "#Print out the digests as strings \n",
    "\n",
    "print(f\"digest-1: {digest_1_str}\")\n",
    "print(f\"digest-2: {digest_2_str}\")\n",
    "\n",
    "print(f\"The two digests differ by { char_diff(digest_1_str, digest_2_str)} characters\")"
   ]
  },
  {
   "cell_type": "markdown",
   "metadata": {},
   "source": [
    "This shows the 'avalanche effect' in the SHA-256 algorithm. We started with two strings difering only in one character. The digests then differ by 57 characters!"
   ]
  }
 ],
 "metadata": {
  "kernelspec": {
   "display_name": "qcomp",
   "language": "python",
   "name": "python3"
  },
  "language_info": {
   "codemirror_mode": {
    "name": "ipython",
    "version": 3
   },
   "file_extension": ".py",
   "mimetype": "text/x-python",
   "name": "python",
   "nbconvert_exporter": "python",
   "pygments_lexer": "ipython3",
   "version": "3.12.4"
  }
 },
 "nbformat": 4,
 "nbformat_minor": 2
}
